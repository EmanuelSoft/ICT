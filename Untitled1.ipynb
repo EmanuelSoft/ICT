{
  "nbformat": 4,
  "nbformat_minor": 0,
  "metadata": {
    "colab": {
      "provenance": [],
      "toc_visible": true,
      "authorship_tag": "ABX9TyNgmHkpydOA/O7UV6qUHA7k",
      "include_colab_link": true
    },
    "kernelspec": {
      "name": "python3",
      "display_name": "Python 3"
    },
    "language_info": {
      "name": "python"
    }
  },
  "cells": [
    {
      "cell_type": "markdown",
      "metadata": {
        "id": "view-in-github",
        "colab_type": "text"
      },
      "source": [
        "<a href=\"https://colab.research.google.com/github/EmanuelSoft/ICT/blob/main/Untitled1.ipynb\" target=\"_parent\"><img src=\"https://colab.research.google.com/assets/colab-badge.svg\" alt=\"Open In Colab\"/></a>"
      ]
    },
    {
      "cell_type": "code",
      "execution_count": 62,
      "metadata": {
        "id": "BuBVsvmIbQUY"
      },
      "outputs": [],
      "source": [
        "import pandas as pd\n",
        "import numpy as np\n",
        "from matplotlib import pyplot as plt\n",
        "from sklearn.impute import SimpleImputer,KNNImputer\n",
        "from sklearn.preprocessing import MinMaxScaler,StandardScaler\n",
        "import math as m\n",
        "from sklearn.datasets import load_iris\n",
        "from sklearn.feature_selection import SelectKBest, f_classif"
      ]
    },
    {
      "cell_type": "code",
      "source": [
        "data=pd.read_csv(\"/content/iris data.csv\")"
      ],
      "metadata": {
        "id": "C98ZZ3BddA_F"
      },
      "execution_count": 66,
      "outputs": []
    },
    {
      "cell_type": "code",
      "source": [
        "print(data.shape)"
      ],
      "metadata": {
        "colab": {
          "base_uri": "https://localhost:8080/"
        },
        "id": "zEt0hO3tdQiM",
        "outputId": "c5204b78-13cd-405f-8beb-d2f2e5befa55"
      },
      "execution_count": 67,
      "outputs": [
        {
          "output_type": "stream",
          "name": "stdout",
          "text": [
            "(150, 5)\n"
          ]
        }
      ]
    },
    {
      "cell_type": "code",
      "source": [
        "print(\"\\n\",data.head())"
      ],
      "metadata": {
        "colab": {
          "base_uri": "https://localhost:8080/"
        },
        "id": "--uq0yhHi3l0",
        "outputId": "14b7f9af-379c-4bda-d72f-050d86ec9235"
      },
      "execution_count": 75,
      "outputs": [
        {
          "output_type": "stream",
          "name": "stdout",
          "text": [
            "\n",
            "    Amanuel Bekele  BIzuayew Smachew  biruk damte  Bezawit Desta Henok Ketema\n",
            "0             5.1               NaN          1.4            0.2  Iris-setosa\n",
            "1             4.9               NaN          1.4            0.2  Iris-setosa\n",
            "2             4.7               NaN          1.3            0.2  Iris-setosa\n",
            "3             4.6               NaN          1.5            0.2  Iris-setosa\n",
            "4             5.0               NaN          1.4            0.2  Iris-setosa\n"
          ]
        }
      ]
    },
    {
      "cell_type": "code",
      "source": [
        "print(\"\\n\",data.tail())"
      ],
      "metadata": {
        "colab": {
          "base_uri": "https://localhost:8080/"
        },
        "id": "pDBvc8wNqeoa",
        "outputId": "34c0036c-e95f-4363-867e-f77f936399fe"
      },
      "execution_count": 77,
      "outputs": [
        {
          "output_type": "stream",
          "name": "stdout",
          "text": [
            "\n",
            "      Amanuel Bekele  BIzuayew Smachew  biruk damte  Bezawit Desta  \\\n",
            "145             6.7               3.0          5.2            2.3   \n",
            "146             6.3               2.5          5.0            1.9   \n",
            "147             6.5               3.0          5.2            2.0   \n",
            "148             6.2               3.4          5.4            2.3   \n",
            "149             5.9               3.0          5.1            1.8   \n",
            "\n",
            "       Henok Ketema  \n",
            "145  Iris-virginica  \n",
            "146  Iris-virginica  \n",
            "147  Iris-virginica  \n",
            "148  Iris-virginica  \n",
            "149  Iris-virginica  \n"
          ]
        }
      ]
    },
    {
      "cell_type": "code",
      "source": [
        "print(data[:10])"
      ],
      "metadata": {
        "colab": {
          "base_uri": "https://localhost:8080/"
        },
        "id": "bwQqYpbhM_7H",
        "outputId": "6bee611a-f6b6-449f-a0b9-9093402b44eb"
      },
      "execution_count": 69,
      "outputs": [
        {
          "output_type": "stream",
          "name": "stdout",
          "text": [
            "   Amanuel Bekele  BIzuayew Smachew  biruk damte  Bezawit Desta Henok Ketema\n",
            "0             5.1               NaN          1.4            0.2  Iris-setosa\n",
            "1             4.9               NaN          1.4            0.2  Iris-setosa\n",
            "2             4.7               NaN          1.3            0.2  Iris-setosa\n",
            "3             4.6               NaN          1.5            0.2  Iris-setosa\n",
            "4             5.0               NaN          1.4            0.2  Iris-setosa\n",
            "5             5.4               3.9          1.7            0.4  Iris-setosa\n",
            "6             4.6               3.4          1.4            0.3  Iris-setosa\n",
            "7             5.0               3.4          1.5            0.2  Iris-setosa\n",
            "8             4.4               2.9          1.4            0.2  Iris-setosa\n",
            "9             4.9               3.1          1.5            0.1  Iris-setosa\n"
          ]
        }
      ]
    },
    {
      "cell_type": "code",
      "source": [
        "print (\"\\n\", data.describe())"
      ],
      "metadata": {
        "colab": {
          "base_uri": "https://localhost:8080/"
        },
        "id": "b0mZ7pubf8bv",
        "outputId": "2f880083-c88d-4f28-93c7-2429b7fa2437"
      },
      "execution_count": 78,
      "outputs": [
        {
          "output_type": "stream",
          "name": "stdout",
          "text": [
            "\n",
            "        Amanuel Bekele  BIzuayew Smachew  biruk damte  Bezawit Desta\n",
            "count      150.000000        145.000000   150.000000     150.000000\n",
            "mean         5.843333          3.046207     3.758667       1.198667\n",
            "std          0.828066          0.436848     1.764420       0.763161\n",
            "min          4.300000          2.000000     1.000000       0.100000\n",
            "25%          5.100000          2.800000     1.600000       0.300000\n",
            "50%          5.800000          3.000000     4.350000       1.300000\n",
            "75%          6.400000          3.300000     5.100000       1.800000\n",
            "max          7.900000          4.400000     6.900000       2.500000\n"
          ]
        }
      ]
    },
    {
      "cell_type": "markdown",
      "source": [
        "# New section"
      ],
      "metadata": {
        "id": "OrMFL7Xar7AQ"
      }
    },
    {
      "cell_type": "code",
      "source": [
        "print (\"\\n\", data['Henok Ketema'].value_counts())"
      ],
      "metadata": {
        "colab": {
          "base_uri": "https://localhost:8080/"
        },
        "id": "5nA4EZzql1Rg",
        "outputId": "2868c0e6-6207-43d2-8c03-e55c134a90af"
      },
      "execution_count": null,
      "outputs": [
        {
          "output_type": "stream",
          "name": "stdout",
          "text": [
            "\n",
            " Henok Ketema\n",
            "Iris-setosa        50\n",
            "Iris-versicolor    50\n",
            "Iris-virginica     50\n",
            "Name: count, dtype: int64\n"
          ]
        }
      ]
    },
    {
      "cell_type": "code",
      "source": [
        "print (data.iloc[:,4].values)"
      ],
      "metadata": {
        "colab": {
          "base_uri": "https://localhost:8080/"
        },
        "id": "K3X1CSf2vzSO",
        "outputId": "8cfe66e6-2fcf-4474-ec2b-d00b7959ff80"
      },
      "execution_count": null,
      "outputs": [
        {
          "output_type": "stream",
          "name": "stdout",
          "text": [
            "['Iris-setosa' 'Iris-setosa' 'Iris-setosa' 'Iris-setosa' 'Iris-setosa'\n",
            " 'Iris-setosa' 'Iris-setosa' 'Iris-setosa' 'Iris-setosa' 'Iris-setosa'\n",
            " 'Iris-setosa' 'Iris-setosa' 'Iris-setosa' 'Iris-setosa' 'Iris-setosa'\n",
            " 'Iris-setosa' 'Iris-setosa' 'Iris-setosa' 'Iris-setosa' 'Iris-setosa'\n",
            " 'Iris-setosa' 'Iris-setosa' 'Iris-setosa' 'Iris-setosa' 'Iris-setosa'\n",
            " 'Iris-setosa' 'Iris-setosa' 'Iris-setosa' 'Iris-setosa' 'Iris-setosa'\n",
            " 'Iris-setosa' 'Iris-setosa' 'Iris-setosa' 'Iris-setosa' 'Iris-setosa'\n",
            " 'Iris-setosa' 'Iris-setosa' 'Iris-setosa' 'Iris-setosa' 'Iris-setosa'\n",
            " 'Iris-setosa' 'Iris-setosa' 'Iris-setosa' 'Iris-setosa' 'Iris-setosa'\n",
            " 'Iris-setosa' 'Iris-setosa' 'Iris-setosa' 'Iris-setosa' 'Iris-setosa'\n",
            " 'Iris-versicolor' 'Iris-versicolor' 'Iris-versicolor' 'Iris-versicolor'\n",
            " 'Iris-versicolor' 'Iris-versicolor' 'Iris-versicolor' 'Iris-versicolor'\n",
            " 'Iris-versicolor' 'Iris-versicolor' 'Iris-versicolor' 'Iris-versicolor'\n",
            " 'Iris-versicolor' 'Iris-versicolor' 'Iris-versicolor' 'Iris-versicolor'\n",
            " 'Iris-versicolor' 'Iris-versicolor' 'Iris-versicolor' 'Iris-versicolor'\n",
            " 'Iris-versicolor' 'Iris-versicolor' 'Iris-versicolor' 'Iris-versicolor'\n",
            " 'Iris-versicolor' 'Iris-versicolor' 'Iris-versicolor' 'Iris-versicolor'\n",
            " 'Iris-versicolor' 'Iris-versicolor' 'Iris-versicolor' 'Iris-versicolor'\n",
            " 'Iris-versicolor' 'Iris-versicolor' 'Iris-versicolor' 'Iris-versicolor'\n",
            " 'Iris-versicolor' 'Iris-versicolor' 'Iris-versicolor' 'Iris-versicolor'\n",
            " 'Iris-versicolor' 'Iris-versicolor' 'Iris-versicolor' 'Iris-versicolor'\n",
            " 'Iris-versicolor' 'Iris-versicolor' 'Iris-versicolor' 'Iris-versicolor'\n",
            " 'Iris-versicolor' 'Iris-versicolor' 'Iris-virginica' 'Iris-virginica'\n",
            " 'Iris-virginica' 'Iris-virginica' 'Iris-virginica' 'Iris-virginica'\n",
            " 'Iris-virginica' 'Iris-virginica' 'Iris-virginica' 'Iris-virginica'\n",
            " 'Iris-virginica' 'Iris-virginica' 'Iris-virginica' 'Iris-virginica'\n",
            " 'Iris-virginica' 'Iris-virginica' 'Iris-virginica' 'Iris-virginica'\n",
            " 'Iris-virginica' 'Iris-virginica' 'Iris-virginica' 'Iris-virginica'\n",
            " 'Iris-virginica' 'Iris-virginica' 'Iris-virginica' 'Iris-virginica'\n",
            " 'Iris-virginica' 'Iris-virginica' 'Iris-virginica' 'Iris-virginica'\n",
            " 'Iris-virginica' 'Iris-virginica' 'Iris-virginica' 'Iris-virginica'\n",
            " 'Iris-virginica' 'Iris-virginica' 'Iris-virginica' 'Iris-virginica'\n",
            " 'Iris-virginica' 'Iris-virginica' 'Iris-virginica' 'Iris-virginica'\n",
            " 'Iris-virginica' 'Iris-virginica' 'Iris-virginica' 'Iris-virginica'\n",
            " 'Iris-virginica' 'Iris-virginica' 'Iris-virginica' 'Iris-virginica']\n"
          ]
        }
      ]
    },
    {
      "cell_type": "code",
      "source": [
        "data.hist()\n",
        "plt.show()\n"
      ],
      "metadata": {
        "colab": {
          "base_uri": "https://localhost:8080/",
          "height": 452
        },
        "id": "TnKpHhVLy-T3",
        "outputId": "b2c89003-a77a-40e8-8ea7-272a5c9bf8e3"
      },
      "execution_count": null,
      "outputs": [
        {
          "output_type": "display_data",
          "data": {
            "text/plain": [
              "<Figure size 640x480 with 4 Axes>"
            ],
            "image/png": "[encoded data removed]"
          },
          "metadata": {}
        }
      ]
    },
    {
      "cell_type": "code",
      "source": [
        "data.plot(kind='box', subplots=True, layout=(2,2), sharex=False)\n",
        "plt.show()\n"
      ],
      "metadata": {
        "colab": {
          "base_uri": "https://localhost:8080/",
          "height": 432
        },
        "id": "BccImVQW0cFR",
        "outputId": "4a9dd6c7-cc09-4020-fd66-3b3614f7391b"
      },
      "execution_count": 29,
      "outputs": [
        {
          "output_type": "display_data",
          "data": {
            "text/plain": [
              "<Figure size 640x480 with 4 Axes>"
            ],
            "image/png": "[encoded data removed]"
          },
          "metadata": {}
        }
      ]
    },
    {
      "cell_type": "code",
      "source": [
        "print(data.tail())"
      ],
      "metadata": {
        "colab": {
          "base_uri": "https://localhost:8080/"
        },
        "id": "_3_zQMtjaC3b",
        "outputId": "244294ff-321a-41f1-8f23-03ce5d5cff76"
      },
      "execution_count": 6,
      "outputs": [
        {
          "output_type": "stream",
          "name": "stdout",
          "text": [
            "     Amanuel Bekele  BIzuayew Smachew  biruk damte  Bezawit Desta  \\\n",
            "145             6.7               3.0          5.2            2.3   \n",
            "146             6.3               2.5          5.0            1.9   \n",
            "147             6.5               3.0          5.2            2.0   \n",
            "148             6.2               3.4          5.4            2.3   \n",
            "149             5.9               3.0          5.1            1.8   \n",
            "\n",
            "       Henok Ketema  \n",
            "145  Iris-virginica  \n",
            "146  Iris-virginica  \n",
            "147  Iris-virginica  \n",
            "148  Iris-virginica  \n",
            "149  Iris-virginica  \n"
          ]
        }
      ]
    },
    {
      "cell_type": "code",
      "source": [
        "\n"
      ],
      "metadata": {
        "id": "5fISlFmLeYwA"
      },
      "execution_count": 18,
      "outputs": []
    },
    {
      "cell_type": "code",
      "source": [
        "print (round(data.isnull().sum(), 2).sort_values(ascending=False))\n",
        "second_column = data.iloc[:, 1]\n",
        "imputer = SimpleImputer(strategy='constant', fill_value=100)\n",
        "imputed_second_column = imputer.fit_transform(second_column.values.reshape(-1, 1))\n",
        "data.iloc[:, 1] = imputed_second_column\n",
        "print (data)"
      ],
      "metadata": {
        "colab": {
          "base_uri": "https://localhost:8080/"
        },
        "id": "tCutKh5mfEfs",
        "outputId": "a5c6d9ee-dd1d-400a-fa9b-e6e86e60ba73"
      },
      "execution_count": 46,
      "outputs": [
        {
          "output_type": "stream",
          "name": "stdout",
          "text": [
            "BIzuayew Smachew    5\n",
            "Amanuel Bekele      0\n",
            "biruk damte         0\n",
            "Bezawit Desta       0\n",
            "Henok Ketema        0\n",
            "dtype: int64\n",
            "     Amanuel Bekele  BIzuayew Smachew  biruk damte  Bezawit Desta  \\\n",
            "0               5.1             100.0          1.4            0.2   \n",
            "1               4.9             100.0          1.4            0.2   \n",
            "2               4.7             100.0          1.3            0.2   \n",
            "3               4.6             100.0          1.5            0.2   \n",
            "4               5.0             100.0          1.4            0.2   \n",
            "..              ...               ...          ...            ...   \n",
            "145             6.7               3.0          5.2            2.3   \n",
            "146             6.3               2.5          5.0            1.9   \n",
            "147             6.5               3.0          5.2            2.0   \n",
            "148             6.2               3.4          5.4            2.3   \n",
            "149             5.9               3.0          5.1            1.8   \n",
            "\n",
            "       Henok Ketema  \n",
            "0       Iris-setosa  \n",
            "1       Iris-setosa  \n",
            "2       Iris-setosa  \n",
            "3       Iris-setosa  \n",
            "4       Iris-setosa  \n",
            "..              ...  \n",
            "145  Iris-virginica  \n",
            "146  Iris-virginica  \n",
            "147  Iris-virginica  \n",
            "148  Iris-virginica  \n",
            "149  Iris-virginica  \n",
            "\n",
            "[150 rows x 5 columns]\n"
          ]
        }
      ]
    },
    {
      "cell_type": "code",
      "source": [
        "data2= (data.iloc[:,:-1])\n",
        "# create an object for KNNImputer\n",
        "imputer = KNNImputer(n_neighbors=2)\n",
        "After_imputation = imputer.fit_transform(Before_imputation)\n",
        "# print dataset after performing the operation\n",
        "print(\"\\n\\nAfter performing imputation\\n\",After_imputation)\n"
      ],
      "metadata": {
        "colab": {
          "base_uri": "https://localhost:8080/"
        },
        "id": "0lTd4B4wPKvq",
        "outputId": "a6b82788-f7c7-487a-f480-f927c4cd953f"
      },
      "execution_count": 47,
      "outputs": [
        {
          "output_type": "stream",
          "name": "stdout",
          "text": [
            "\n",
            "\n",
            "After performing imputation\n",
            " [[  5.1 100.    1.4   0.2]\n",
            " [  4.9 100.    1.4   0.2]\n",
            " [  4.7 100.    1.3   0.2]\n",
            " [  4.6 100.    1.5   0.2]\n",
            " [  5.  100.    1.4   0.2]\n",
            " [  5.4   3.9   1.7   0.4]\n",
            " [  4.6   3.4   1.4   0.3]\n",
            " [  5.    3.4   1.5   0.2]\n",
            " [  4.4   2.9   1.4   0.2]\n",
            " [  4.9   3.1   1.5   0.1]\n",
            " [  5.4   3.7   1.5   0.2]\n",
            " [  4.8   3.4   1.6   0.2]\n",
            " [  4.8   3.    1.4   0.1]\n",
            " [  4.3   3.    1.1   0.1]\n",
            " [  5.8   4.    1.2   0.2]\n",
            " [  5.7   4.4   1.5   0.4]\n",
            " [  5.4   3.9   1.3   0.4]\n",
            " [  5.1   3.5   1.4   0.3]\n",
            " [  5.7   3.8   1.7   0.3]\n",
            " [  5.1   3.8   1.5   0.3]\n",
            " [  5.4   3.4   1.7   0.2]\n",
            " [  5.1   3.7   1.5   0.4]\n",
            " [  4.6   3.6   1.    0.2]\n",
            " [  5.1   3.3   1.7   0.5]\n",
            " [  4.8   3.4   1.9   0.2]\n",
            " [  5.    3.    1.6   0.2]\n",
            " [  5.    3.4   1.6   0.4]\n",
            " [  5.2   3.5   1.5   0.2]\n",
            " [  5.2   3.4   1.4   0.2]\n",
            " [  4.7   3.2   1.6   0.2]\n",
            " [  4.8   3.1   1.6   0.2]\n",
            " [  5.4   3.4   1.5   0.4]\n",
            " [  5.2   4.1   1.5   0.1]\n",
            " [  5.5   4.2   1.4   0.2]\n",
            " [  4.9   3.1   1.5   0.1]\n",
            " [  5.    3.2   1.2   0.2]\n",
            " [  5.5   3.5   1.3   0.2]\n",
            " [  4.9   3.1   1.5   0.1]\n",
            " [  4.4   3.    1.3   0.2]\n",
            " [  5.1   3.4   1.5   0.2]\n",
            " [  5.    3.5   1.3   0.3]\n",
            " [  4.5   2.3   1.3   0.3]\n",
            " [  4.4   3.2   1.3   0.2]\n",
            " [  5.    3.5   1.6   0.6]\n",
            " [  5.1   3.8   1.9   0.4]\n",
            " [  4.8   3.    1.4   0.3]\n",
            " [  5.1   3.8   1.6   0.2]\n",
            " [  4.6   3.2   1.4   0.2]\n",
            " [  5.3   3.7   1.5   0.2]\n",
            " [  5.    3.3   1.4   0.2]\n",
            " [  7.    3.2   4.7   1.4]\n",
            " [  6.4   3.2   4.5   1.5]\n",
            " [  6.9   3.1   4.9   1.5]\n",
            " [  5.5   2.3   4.    1.3]\n",
            " [  6.5   2.8   4.6   1.5]\n",
            " [  5.7   2.8   4.5   1.3]\n",
            " [  6.3   3.3   4.7   1.6]\n",
            " [  4.9   2.4   3.3   1. ]\n",
            " [  6.6   2.9   4.6   1.3]\n",
            " [  5.2   2.7   3.9   1.4]\n",
            " [  5.    2.    3.5   1. ]\n",
            " [  5.9   3.    4.2   1.5]\n",
            " [  6.    2.2   4.    1. ]\n",
            " [  6.1   2.9   4.7   1.4]\n",
            " [  5.6   2.9   3.6   1.3]\n",
            " [  6.7   3.1   4.4   1.4]\n",
            " [  5.6   3.    4.5   1.5]\n",
            " [  5.8   2.7   4.1   1. ]\n",
            " [  6.2   2.2   4.5   1.5]\n",
            " [  5.6   2.5   3.9   1.1]\n",
            " [  5.9   3.2   4.8   1.8]\n",
            " [  6.1   2.8   4.    1.3]\n",
            " [  6.3   2.5   4.9   1.5]\n",
            " [  6.1   2.8   4.7   1.2]\n",
            " [  6.4   2.9   4.3   1.3]\n",
            " [  6.6   3.    4.4   1.4]\n",
            " [  6.8   2.8   4.8   1.4]\n",
            " [  6.7   3.    5.    1.7]\n",
            " [  6.    2.9   4.5   1.5]\n",
            " [  5.7   2.6   3.5   1. ]\n",
            " [  5.5   2.4   3.8   1.1]\n",
            " [  5.5   2.4   3.7   1. ]\n",
            " [  5.8   2.7   3.9   1.2]\n",
            " [  6.    2.7   5.1   1.6]\n",
            " [  5.4   3.    4.5   1.5]\n",
            " [  6.    3.4   4.5   1.6]\n",
            " [  6.7   3.1   4.7   1.5]\n",
            " [  6.3   2.3   4.4   1.3]\n",
            " [  5.6   3.    4.1   1.3]\n",
            " [  5.5   2.5   4.    1.3]\n",
            " [  5.5   2.6   4.4   1.2]\n",
            " [  6.1   3.    4.6   1.4]\n",
            " [  5.8   2.6   4.    1.2]\n",
            " [  5.    2.3   3.3   1. ]\n",
            " [  5.6   2.7   4.2   1.3]\n",
            " [  5.7   3.    4.2   1.2]\n",
            " [  5.7   2.9   4.2   1.3]\n",
            " [  6.2   2.9   4.3   1.3]\n",
            " [  5.1   2.5   3.    1.1]\n",
            " [  5.7   2.8   4.1   1.3]\n",
            " [  6.3   3.3   6.    2.5]\n",
            " [  5.8   2.7   5.1   1.9]\n",
            " [  7.1   3.    5.9   2.1]\n",
            " [  6.3   2.9   5.6   1.8]\n",
            " [  6.5   3.    5.8   2.2]\n",
            " [  7.6   3.    6.6   2.1]\n",
            " [  4.9   2.5   4.5   1.7]\n",
            " [  7.3   2.9   6.3   1.8]\n",
            " [  6.7   2.5   5.8   1.8]\n",
            " [  7.2   3.6   6.1   2.5]\n",
            " [  6.5   3.2   5.1   2. ]\n",
            " [  6.4   2.7   5.3   1.9]\n",
            " [  6.8   3.    5.5   2.1]\n",
            " [  5.7   2.5   5.    2. ]\n",
            " [  5.8   2.8   5.1   2.4]\n",
            " [  6.4   3.2   5.3   2.3]\n",
            " [  6.5   3.    5.5   1.8]\n",
            " [  7.7   3.8   6.7   2.2]\n",
            " [  7.7   2.6   6.9   2.3]\n",
            " [  6.    2.2   5.    1.5]\n",
            " [  6.9   3.2   5.7   2.3]\n",
            " [  5.6   2.8   4.9   2. ]\n",
            " [  7.7   2.8   6.7   2. ]\n",
            " [  6.3   2.7   4.9   1.8]\n",
            " [  6.7   3.3   5.7   2.1]\n",
            " [  7.2   3.2   6.    1.8]\n",
            " [  6.2   2.8   4.8   1.8]\n",
            " [  6.1   3.    4.9   1.8]\n",
            " [  6.4   2.8   5.6   2.1]\n",
            " [  7.2   3.    5.8   1.6]\n",
            " [  7.4   2.8   6.1   1.9]\n",
            " [  7.9   3.8   6.4   2. ]\n",
            " [  6.4   2.8   5.6   2.2]\n",
            " [  6.3   2.8   5.1   1.5]\n",
            " [  6.1   2.6   5.6   1.4]\n",
            " [  7.7   3.    6.1   2.3]\n",
            " [  6.3   3.4   5.6   2.4]\n",
            " [  6.4   3.1   5.5   1.8]\n",
            " [  6.    3.    4.8   1.8]\n",
            " [  6.9   3.1   5.4   2.1]\n",
            " [  6.7   3.1   5.6   2.4]\n",
            " [  6.9   3.1   5.1   2.3]\n",
            " [  5.8   2.7   5.1   1.9]\n",
            " [  6.8   3.2   5.9   2.3]\n",
            " [  6.7   3.3   5.7   2.5]\n",
            " [  6.7   3.    5.2   2.3]\n",
            " [  6.3   2.5   5.    1.9]\n",
            " [  6.5   3.    5.2   2. ]\n",
            " [  6.2   3.4   5.4   2.3]\n",
            " [  5.9   3.    5.1   1.8]]\n"
          ]
        }
      ]
    },
    {
      "cell_type": "code",
      "source": [
        "data2= (data.iloc[:,:-1])\n",
        "print (len(data2))\n",
        "data2 = data2.dropna(axis=1) # drop rows with nan values\n",
        "print (data2.isnull().sum())\n",
        "print (data2)\n"
      ],
      "metadata": {
        "colab": {
          "base_uri": "https://localhost:8080/"
        },
        "id": "WzKcsI_8a78x",
        "outputId": "6880e527-9479-4078-b3d5-e8230dce4941"
      },
      "execution_count": 48,
      "outputs": [
        {
          "output_type": "stream",
          "name": "stdout",
          "text": [
            "150\n",
            "Amanuel Bekele      0\n",
            "BIzuayew Smachew    0\n",
            "biruk damte         0\n",
            "Bezawit Desta       0\n",
            "dtype: int64\n",
            "     Amanuel Bekele  BIzuayew Smachew  biruk damte  Bezawit Desta\n",
            "0               5.1             100.0          1.4            0.2\n",
            "1               4.9             100.0          1.4            0.2\n",
            "2               4.7             100.0          1.3            0.2\n",
            "3               4.6             100.0          1.5            0.2\n",
            "4               5.0             100.0          1.4            0.2\n",
            "..              ...               ...          ...            ...\n",
            "145             6.7               3.0          5.2            2.3\n",
            "146             6.3               2.5          5.0            1.9\n",
            "147             6.5               3.0          5.2            2.0\n",
            "148             6.2               3.4          5.4            2.3\n",
            "149             5.9               3.0          5.1            1.8\n",
            "\n",
            "[150 rows x 4 columns]\n"
          ]
        }
      ]
    },
    {
      "cell_type": "code",
      "source": [
        "df = pd.DataFrame({'Age': [42, 15, 67, 55, 1, 29, 75, 89, 4,  10, 15, 38, 22, 77]})\n",
        "\n",
        "print(\"Before Transformation: \")\n",
        "print(df)"
      ],
      "metadata": {
        "colab": {
          "base_uri": "https://localhost:8080/"
        },
        "id": "HNenZdkAbc5J",
        "outputId": "fb485974-7b24-4e54-89d5-a8dba3c4a362"
      },
      "execution_count": 55,
      "outputs": [
        {
          "output_type": "stream",
          "name": "stdout",
          "text": [
            "Before Transformation: \n",
            "    Age\n",
            "0    42\n",
            "1    15\n",
            "2    67\n",
            "3    55\n",
            "4     1\n",
            "5    29\n",
            "6    75\n",
            "7    89\n",
            "8     4\n",
            "9    10\n",
            "10   15\n",
            "11   38\n",
            "12   22\n",
            "13   77\n"
          ]
        }
      ]
    },
    {
      "cell_type": "code",
      "source": [
        "Label = pd.cut(x=df['Age'], bins=[0, 3, 7, 17, 63, 99],\n",
        "                     labels=['Baby', 'Child', 'Teenage', 'Adult', 'Elderly'])\n",
        "\n",
        "# Printing DataFrame after sorting Continuous to\n",
        "# Categories\n",
        "print(\"After: \")\n",
        "print(Label)\n",
        "# Check the number of values in each bin\n",
        "print(\"Categories: \")\n",
        "print(Label.value_counts())\n",
        "\n",
        "data = pd.concat([df, Label], axis=1)\n",
        "print (\"\\n \\n \\n Merged Data \\n \\n\", data)\n"
      ],
      "metadata": {
        "colab": {
          "base_uri": "https://localhost:8080/"
        },
        "id": "IAvE2uBEeBaq",
        "outputId": "37a7fe43-9a3d-43e9-946d-0b532f6118df"
      },
      "execution_count": 57,
      "outputs": [
        {
          "output_type": "stream",
          "name": "stdout",
          "text": [
            "After: \n",
            "0       Adult\n",
            "1     Teenage\n",
            "2     Elderly\n",
            "3       Adult\n",
            "4        Baby\n",
            "5       Adult\n",
            "6     Elderly\n",
            "7     Elderly\n",
            "8       Child\n",
            "9     Teenage\n",
            "10    Teenage\n",
            "11      Adult\n",
            "12      Adult\n",
            "13    Elderly\n",
            "Name: Age, dtype: category\n",
            "Categories (5, object): ['Baby' < 'Child' < 'Teenage' < 'Adult' < 'Elderly']\n",
            "Categories: \n",
            "Age\n",
            "Adult      5\n",
            "Elderly    4\n",
            "Teenage    3\n",
            "Baby       1\n",
            "Child      1\n",
            "Name: count, dtype: int64\n",
            "\n",
            " \n",
            " \n",
            " Merged Data \n",
            " \n",
            "    Age      Age\n",
            "0   42    Adult\n",
            "1   15  Teenage\n",
            "2   67  Elderly\n",
            "3   55    Adult\n",
            "4    1     Baby\n",
            "5   29    Adult\n",
            "6   75  Elderly\n",
            "7   89  Elderly\n",
            "8    4    Child\n",
            "9   10  Teenage\n",
            "10  15  Teenage\n",
            "11  38    Adult\n",
            "12  22    Adult\n",
            "13  77  Elderly\n"
          ]
        }
      ]
    },
    {
      "cell_type": "code",
      "source": [
        "\n",
        "# Step 1: Create the student dataset as a DataFrame\n",
        "data = {\n",
        "    'Id': [1, 2, 3, 4, 5],\n",
        "    'Gender': ['M', 'F', 'F', 'M', 'F'],\n",
        "    'Remarks': ['Good', 'Nice', 'Good', 'Great', 'Nice']\n",
        "}\n",
        "\n",
        "students_df = pd.DataFrame(data)\n",
        "\n",
        "# Step 2: Display the original DataFrame\n",
        "print(\"Original DataFrame:\")\n",
        "print(students_df)\n",
        "\n",
        "# Step 3: Apply one-hot encoding to the 'Gender' column\n",
        "students_df_encoded = pd.get_dummies(students_df, columns=['Gender'])\n",
        "\n",
        "# Step 4: Display the DataFrame after one-hot encoding\n",
        "print(\"\\nDataFrame after One-Hot Encoding:\")\n",
        "print(students_df_encoded)\n"
      ],
      "metadata": {
        "colab": {
          "base_uri": "https://localhost:8080/"
        },
        "id": "v7TxTCoCltsa",
        "outputId": "54360669-32b2-4138-fa29-c4b979d27a30"
      },
      "execution_count": 59,
      "outputs": [
        {
          "output_type": "stream",
          "name": "stdout",
          "text": [
            "Original DataFrame:\n",
            "   Id Gender Remarks\n",
            "0   1      M    Good\n",
            "1   2      F    Nice\n",
            "2   3      F    Good\n",
            "3   4      M   Great\n",
            "4   5      F    Nice\n",
            "\n",
            "DataFrame after One-Hot Encoding:\n",
            "   Id Remarks  Gender_F  Gender_M\n",
            "0   1    Good     False      True\n",
            "1   2    Nice      True     False\n",
            "2   3    Good      True     False\n",
            "3   4   Great     False      True\n",
            "4   5    Nice      True     False\n"
          ]
        }
      ]
    },
    {
      "cell_type": "code",
      "source": [
        "# Step 1: Load the Iris dataset\n",
        "iris = load_iris()\n",
        "X = iris.data\n",
        "y = iris.target\n",
        "\n",
        "# Step 2: Convert to a DataFrame for better visualization\n",
        "iris_df = pd.DataFrame(X, columns=iris.feature_names)\n",
        "iris_df['target'] = y\n",
        "\n",
        "# Step 3: Display the first few rows of the Iris dataset\n",
        "print(\"Original Iris Dataset:\")\n",
        "print(iris_df.head())\n",
        "\n",
        "# Step 4: Apply ANOVA F-value feature selection\n",
        "selector = SelectKBest(f_classif, k=2)\n",
        "X_new = selector.fit_transform(X, y)\n",
        "\n",
        "# Step 5: Get the indices of the selected features\n",
        "selected_features = selector.get_support(indices=True)\n",
        "\n",
        "# Step 6: Get the F-scores of the features\n",
        "scores = selector.scores_\n",
        "\n",
        "# Step 7: Display the indices and names of the selected features\n",
        "print(\"\\nSelected features (based on ANOVA F-value):\")\n",
        "print(f\"Feature indices: {selected_features}\")\n",
        "print(f\"Scores: {scores}\")\n",
        "\n",
        "# Step 8: Display the names of the selected features\n",
        "selected_feature_names = [iris.feature_names[i] for i in selected_features]\n",
        "print(f\"Selected feature names: {selected_feature_names}\")\n"
      ],
      "metadata": {
        "colab": {
          "base_uri": "https://localhost:8080/"
        },
        "id": "EwatdElWnJEr",
        "outputId": "e4e2f237-2128-4dae-ae2a-5f1349495f1b"
      },
      "execution_count": 63,
      "outputs": [
        {
          "output_type": "stream",
          "name": "stdout",
          "text": [
            "Original Iris Dataset:\n",
            "   sepal length (cm)  sepal width (cm)  petal length (cm)  petal width (cm)  \\\n",
            "0                5.1               3.5                1.4               0.2   \n",
            "1                4.9               3.0                1.4               0.2   \n",
            "2                4.7               3.2                1.3               0.2   \n",
            "3                4.6               3.1                1.5               0.2   \n",
            "4                5.0               3.6                1.4               0.2   \n",
            "\n",
            "   target  \n",
            "0       0  \n",
            "1       0  \n",
            "2       0  \n",
            "3       0  \n",
            "4       0  \n",
            "\n",
            "Selected features (based on ANOVA F-value):\n",
            "Feature indices: [2 3]\n",
            "Scores: [ 119.26450218   49.16004009 1180.16118225  960.0071468 ]\n",
            "Selected feature names: ['petal length (cm)', 'petal width (cm)']\n"
          ]
        }
      ]
    }
  ]
}